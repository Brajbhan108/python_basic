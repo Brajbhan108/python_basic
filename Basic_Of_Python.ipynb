{
  "nbformat": 4,
  "nbformat_minor": 0,
  "metadata": {
    "colab": {
      "provenance": [],
      "authorship_tag": "ABX9TyNatKln3O5vmeHlndPDu0la",
      "include_colab_link": true
    },
    "kernelspec": {
      "name": "python3",
      "display_name": "Python 3"
    },
    "language_info": {
      "name": "python"
    }
  },
  "cells": [
    {
      "cell_type": "markdown",
      "metadata": {
        "id": "view-in-github",
        "colab_type": "text"
      },
      "source": [
        "<a href=\"https://colab.research.google.com/github/Brajbhan108/python_basic/blob/main/Basic_Of_Python.ipynb\" target=\"_parent\"><img src=\"https://colab.research.google.com/assets/colab-badge.svg\" alt=\"Open In Colab\"/></a>"
      ]
    },
    {
      "cell_type": "code",
      "execution_count": 1,
      "metadata": {
        "colab": {
          "base_uri": "https://localhost:8080/",
          "height": 0
        },
        "id": "B5NCvFMpqiJI",
        "outputId": "b10d591f-c23a-4a28-e276-2d88db7db4b2"
      },
      "outputs": [
        {
          "output_type": "stream",
          "name": "stdout",
          "text": [
            "Hello World\n"
          ]
        }
      ],
      "source": [
        "print(\"Hello World\")"
      ]
    },
    {
      "cell_type": "code",
      "source": [
        "'''\n",
        "Q - What is Python?\n",
        "A programming language is a way to instruct the computer to perform tasks as per the user's instructions.\n",
        "Python is an interpreted, object-oriented programming language.\n",
        "Building Blocks of Python:\n",
        "  a. Values:\n",
        "            1.\tInteger (Int) - Example: 1, 50, 89\n",
        "            2.\tFloat - Example: 2.5, 89.55\n",
        "            3.\tString - Example: \"ABC\"\n",
        "            4.\tBoolean - Example: True, False\n",
        "            5.\tComplex - Example: 2+3j, 5-5j\n",
        "b. Variables:\n",
        "          •\tUsed to hold values. Example: a = 10, b = \"ABC\"\n",
        "c. Functions:\n",
        "          •\tUsed to perform a task. Example: print(), input(), sum(), etc.\n",
        "d. Libraries:\n",
        "          •\tA collection of functions. Example: Pandas, NumPy, etc.\n",
        "\n",
        "Q - Why Python?\n",
        "Python is free, easy to learn, and has a large ecosystem with extensive libraries and community support.\n",
        "\n",
        "Q - Where Can We Use Python?\n",
        "Python can be used in multiple areas of computer science, such as:\n",
        "            1.\tFront-end Development\n",
        "            2.\tBack-end Development\n",
        "            3.\tData Science / AI\n",
        "            4.\tRobotics\n",
        "\n",
        "Q - How to Use Python?\n",
        "Python can be used in various environments, including:\n",
        "            •\tWindows PowerShell\n",
        "            •\tIDEs (Integrated Development Environments):\n",
        "            o\tVS Code\n",
        "            o\tJupyter Notebook\n",
        "            o\tGoogle Colab\n",
        "\n",
        "Q - What is the Current Python Version?\n",
        "The latest version of Python is 3.11 (as of now).\n",
        "\n",
        "Q - What is a Comment in Python?\n",
        "A comment is used to add notes to code. There are multiple ways to add comments in Python:\n",
        "          •\tSingle-line comment: # This is a comment\n",
        "          •\tMulti-line comment:\n",
        "          •\t'''This is a multi-line comment'''\n",
        "\n",
        "Operations in Python:\n",
        "1.\tArithmetic Operations:\n",
        "          o\tAddition (+)\n",
        "          o\tSubtraction (-)\n",
        "          o\tDivision (/)\n",
        "          o\tFloor Division (//)\n",
        "          o\tModulus (%)\n",
        "          o\tPower (**)\n",
        "\n",
        "Installing Libraries in Python:\n",
        "          To install any library, use pip (Preferred Installer Program):\n",
        "          pip install library_name\n",
        "          Then, import the library into your program:\n",
        "          import math\n",
        "\n",
        "File Types in Python:\n",
        "      •\t.ipynb - Jupyter Notebook files\n",
        "      •\t.py - Standard Python script files\n",
        "'''\n"
      ],
      "metadata": {
        "colab": {
          "base_uri": "https://localhost:8080/",
          "height": 105
        },
        "id": "KYABolt5qqpS",
        "outputId": "54a5177f-c444-465a-c85d-b4357a96c807"
      },
      "execution_count": 6,
      "outputs": [
        {
          "output_type": "execute_result",
          "data": {
            "text/plain": [
              "'\\nQ- What is python ?\\nProgarmming language is a way to instruuct the computer to performance the task as per the user instruction. Python is infartive, objectivicite orantied programing laguage \\nBuilding block of python -\\na. Value - \\n                1. Int - 1,50,89 etc\\n                2. Float - 2.5,89.55 etc\\n                3. String - \"ABC\"\\n                4. Boolean - True, False\\n                5. Complex - 2+3j,5-5i\\nb.Variable - To hold the value call Value - a=10,b=\"ABC\"\\nc.Function - To perform a task is call Function - print(),input(), Sum() etc\\nd.Library - Set of function is call Library - Pandas, Numpy etc\\n\\nQ- Why python ?\\nPython is a free, easy and large ecosystem.\\n\\nQ - Where we can use python?\\nPython can use any area in compyther scince like-\\nFrount end Development\\nBack end Delovepment\\nData Scince\\n\\n\\n'"
            ],
            "application/vnd.google.colaboratory.intrinsic+json": {
              "type": "string"
            }
          },
          "metadata": {},
          "execution_count": 6
        }
      ]
    },
    {
      "cell_type": "code",
      "source": [],
      "metadata": {
        "id": "JrOnqAlurIgu"
      },
      "execution_count": null,
      "outputs": []
    }
  ]
}