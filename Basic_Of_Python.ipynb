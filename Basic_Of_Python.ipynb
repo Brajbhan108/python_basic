{
  "nbformat": 4,
  "nbformat_minor": 0,
  "metadata": {
    "colab": {
      "provenance": [],
      "authorship_tag": "ABX9TyN3YmutOT4xaJdlikNWAka0",
      "include_colab_link": true
    },
    "kernelspec": {
      "name": "python3",
      "display_name": "Python 3"
    },
    "language_info": {
      "name": "python"
    }
  },
  "cells": [
    {
      "cell_type": "markdown",
      "metadata": {
        "id": "view-in-github",
        "colab_type": "text"
      },
      "source": [
        "<a href=\"https://colab.research.google.com/github/Brajbhan108/python_basic/blob/main/Basic_Of_Python.ipynb\" target=\"_parent\"><img src=\"https://colab.research.google.com/assets/colab-badge.svg\" alt=\"Open In Colab\"/></a>"
      ]
    },
    {
      "cell_type": "code",
      "execution_count": 1,
      "metadata": {
        "colab": {
          "base_uri": "https://localhost:8080/",
          "height": 0
        },
        "id": "B5NCvFMpqiJI",
        "outputId": "b10d591f-c23a-4a28-e276-2d88db7db4b2"
      },
      "outputs": [
        {
          "output_type": "stream",
          "name": "stdout",
          "text": [
            "Hello World\n"
          ]
        }
      ],
      "source": [
        "print(\"Hello World\")"
      ]
    },
    {
      "cell_type": "code",
      "source": [
        "from re import MULTILINE\n",
        "'''\n",
        "Q- What is python ?\n",
        "Progarmming language is a way to instruuct the computer to performance the task as per the user instruction. Python is infartive, objectivicite orantied programing laguage\n",
        "Building block of python -\n",
        "a. Value -\n",
        "                1. Int - 1,50,89 etc\n",
        "                2. Float - 2.5,89.55 etc\n",
        "                3. String - \"ABC\"\n",
        "                4. Boolean - True, False\n",
        "                5. Complex - 2+3j,5-5i\n",
        "\n",
        "b.Variable - To hold the value call Value - a=10,b=\"ABC\"\n",
        "c.Function - To perform a task is call Function - print(),input(), Sum() etc\n",
        "d.Library - Set of function is call Library - Pandas, Numpy etc\n",
        "\n",
        "Q- Why python ?\n",
        "Python is a free, easy and large ecosystem.\n",
        "\n",
        "Q - Where we can use python?\n",
        "Python can use any area in compyther scince like-\n",
        "\n",
        "                1. Frount end Development\n",
        "                2. Back end Delovepment\n",
        "                3. Data Scince / AI\n",
        "                4. Robotics etc\n",
        "\n",
        "Q- How to use Python?\n",
        "Python envouemnt or Windos power shell and many IDE (Intergreated Depeloment Envourment) VS code, Jupiter Notbook , Google Colab , etc\n",
        "\n",
        "Q- What is Current python Verson?\n",
        "3.11\n",
        "\n",
        "Q- What is Comment ?\n",
        "To give note to any line .There are many way to give comment (Singe line Comment - # Multi Line comment - ''' This is multiline comment  '''')\n",
        "\n",
        "\n",
        "Opreation in Python -\n",
        "1. Arthmaic Optation - '+','-','/', '// Floor Division', '% (Modlous)','** (Power)'\n",
        "\n",
        "\n",
        "To install the any libory 'pip(priferd install progarmm)' then import math\n",
        "\n",
        "File type - ipynb(Jupiter Notebook)\n",
        "          - py(python)\n",
        "\n",
        "\n",
        "'''"
      ],
      "metadata": {
        "colab": {
          "base_uri": "https://localhost:8080/",
          "height": 105
        },
        "id": "KYABolt5qqpS",
        "outputId": "54a5177f-c444-465a-c85d-b4357a96c807"
      },
      "execution_count": 6,
      "outputs": [
        {
          "output_type": "execute_result",
          "data": {
            "text/plain": [
              "'\\nQ- What is python ?\\nProgarmming language is a way to instruuct the computer to performance the task as per the user instruction. Python is infartive, objectivicite orantied programing laguage \\nBuilding block of python -\\na. Value - \\n                1. Int - 1,50,89 etc\\n                2. Float - 2.5,89.55 etc\\n                3. String - \"ABC\"\\n                4. Boolean - True, False\\n                5. Complex - 2+3j,5-5i\\nb.Variable - To hold the value call Value - a=10,b=\"ABC\"\\nc.Function - To perform a task is call Function - print(),input(), Sum() etc\\nd.Library - Set of function is call Library - Pandas, Numpy etc\\n\\nQ- Why python ?\\nPython is a free, easy and large ecosystem.\\n\\nQ - Where we can use python?\\nPython can use any area in compyther scince like-\\nFrount end Development\\nBack end Delovepment\\nData Scince\\n\\n\\n'"
            ],
            "application/vnd.google.colaboratory.intrinsic+json": {
              "type": "string"
            }
          },
          "metadata": {},
          "execution_count": 6
        }
      ]
    },
    {
      "cell_type": "code",
      "source": [],
      "metadata": {
        "id": "JrOnqAlurIgu"
      },
      "execution_count": null,
      "outputs": []
    }
  ]
}